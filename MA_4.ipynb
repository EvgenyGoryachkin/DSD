{
 "cells": [
  {
   "cell_type": "code",
   "execution_count": 2,
   "id": "c8d07210-4e60-4518-b25a-7ca24d53a698",
   "metadata": {},
   "outputs": [],
   "source": [
    "from math import sqrt"
   ]
  },
  {
   "cell_type": "raw",
   "id": "8d83be45-adb9-491f-a4a7-06a3e201bc66",
   "metadata": {},
   "source": [
    "Задание 1"
   ]
  },
  {
   "cell_type": "code",
   "execution_count": 3,
   "id": "9cc7ae19-6981-4c21-8e81-0a0785fd7eb7",
   "metadata": {},
   "outputs": [
    {
     "data": {
      "text/plain": [
       "500.0"
      ]
     },
     "execution_count": 3,
     "metadata": {},
     "output_type": "execute_result"
    }
   ],
   "source": [
    "a1 = 200\n",
    "b1 = 800\n",
    "M1 = (a1 + b1) / 2\n",
    "M1"
   ]
  },
  {
   "cell_type": "code",
   "execution_count": 4,
   "id": "0b30f9c3-9f2e-440b-8ab6-1e8cdaa945a0",
   "metadata": {},
   "outputs": [
    {
     "data": {
      "text/plain": [
       "30000.0"
      ]
     },
     "execution_count": 4,
     "metadata": {},
     "output_type": "execute_result"
    }
   ],
   "source": [
    "D1 = (b1 - a1) ** 2 / 12\n",
    "D1"
   ]
  },
  {
   "cell_type": "raw",
   "id": "6b3e1e15-b7e0-4881-8b2c-be55414feb6b",
   "metadata": {},
   "source": [
    "Задание 2"
   ]
  },
  {
   "cell_type": "code",
   "execution_count": 5,
   "id": "5ec8a080-d165-4535-b7e3-c7b6c7d08748",
   "metadata": {},
   "outputs": [
    {
     "data": {
      "text/plain": [
       "2.049193338482967"
      ]
     },
     "execution_count": 5,
     "metadata": {},
     "output_type": "execute_result"
    }
   ],
   "source": [
    "D2 = 0.2\n",
    "a2 = 0.5\n",
    "b2 = sqrt(D2 * 12) + a2\n",
    "b2"
   ]
  },
  {
   "cell_type": "code",
   "execution_count": 6,
   "id": "5e68b3b0-401c-4e57-8d94-7905cec1fe34",
   "metadata": {},
   "outputs": [
    {
     "data": {
      "text/plain": [
       "1.2745966692414834"
      ]
     },
     "execution_count": 6,
     "metadata": {},
     "output_type": "execute_result"
    }
   ],
   "source": [
    "M2 = (a2 + b2) / 2\n",
    "M2"
   ]
  },
  {
   "cell_type": "raw",
   "id": "16bcc40c-9026-4c1e-9b7e-fee1f08f82cf",
   "metadata": {},
   "source": [
    "Задание 3"
   ]
  },
  {
   "cell_type": "raw",
   "id": "c9d2e70c-e3a3-488e-96f7-e5e77a04164b",
   "metadata": {},
   "source": [
    "f(x) = (1 / (4 * sqrt(2pi))) (exp(-((x+2)**2) / 32))\n",
    "M(X) = -2\n",
    "D(X) = 16\n",
    "std(X) = 4"
   ]
  },
  {
   "cell_type": "code",
   "execution_count": null,
   "id": "6f2f291a-828e-426a-8ffe-c89a23a43a05",
   "metadata": {},
   "outputs": [],
   "source": [
    "Задание 4"
   ]
  },
  {
   "cell_type": "code",
   "execution_count": 7,
   "id": "572050f3-862f-4e63-bb71-003589edbc06",
   "metadata": {},
   "outputs": [
    {
     "data": {
      "text/plain": [
       "16.0"
      ]
     },
     "execution_count": 7,
     "metadata": {},
     "output_type": "execute_result"
    }
   ],
   "source": [
    "M4 = 174\n",
    "std = 8\n",
    "sigma1 = 68\n",
    "sigma2 = 95.4\n",
    "sigma3 = 99.72\n",
    "P4_1 = (100 - sigma1) / 2\n",
    "P4_1"
   ]
  },
  {
   "cell_type": "code",
   "execution_count": 8,
   "id": "38e49058-d501-4283-b726-6cbb2b860220",
   "metadata": {},
   "outputs": [
    {
     "data": {
      "text/plain": [
       "2.299999999999997"
      ]
     },
     "execution_count": 8,
     "metadata": {},
     "output_type": "execute_result"
    }
   ],
   "source": [
    "P4_2 = (100 - sigma2) / 2\n",
    "P4_2"
   ]
  },
  {
   "cell_type": "code",
   "execution_count": 9,
   "id": "9a5dc9ca-80c4-40b4-b3e4-c200393d02d7",
   "metadata": {},
   "outputs": [
    {
     "data": {
      "text/plain": [
       "81.7"
      ]
     },
     "execution_count": 9,
     "metadata": {},
     "output_type": "execute_result"
    }
   ],
   "source": [
    "P4_3 = sigma1 + ((sigma2 - sigma1) / 2 )\n",
    "P4_3"
   ]
  },
  {
   "cell_type": "code",
   "execution_count": 10,
   "id": "defeff8a-c63b-4dad-886d-ace603769533",
   "metadata": {},
   "outputs": [
    {
     "data": {
      "text/plain": [
       "68"
      ]
     },
     "execution_count": 10,
     "metadata": {},
     "output_type": "execute_result"
    }
   ],
   "source": [
    "P4_4 = sigma1\n",
    "P4_4"
   ]
  },
  {
   "cell_type": "code",
   "execution_count": 11,
   "id": "d834d70a-5cd1-4c8d-b092-19c045cfa803",
   "metadata": {},
   "outputs": [
    {
     "data": {
      "text/plain": [
       "95.4"
      ]
     },
     "execution_count": 11,
     "metadata": {},
     "output_type": "execute_result"
    }
   ],
   "source": [
    "P4_5 = sigma2\n",
    "P4_5"
   ]
  },
  {
   "cell_type": "code",
   "execution_count": 12,
   "id": "48690f17-8410-4209-9ce8-af86dfd45306",
   "metadata": {},
   "outputs": [
    {
     "data": {
      "text/plain": [
       "2.4399999999999977"
      ]
     },
     "execution_count": 12,
     "metadata": {},
     "output_type": "execute_result"
    }
   ],
   "source": [
    "P4_6 = (100 - sigma3) + ((sigma3 - sigma2) / 2)\n",
    "P4_6"
   ]
  },
  {
   "cell_type": "code",
   "execution_count": 13,
   "id": "90d3c3f6-7707-4608-a381-ae90d39ea97e",
   "metadata": {},
   "outputs": [
    {
     "data": {
      "text/plain": [
       "0.28000000000000114"
      ]
     },
     "execution_count": 13,
     "metadata": {},
     "output_type": "execute_result"
    }
   ],
   "source": [
    "P4_7 = 100 - sigma3\n",
    "P4_7"
   ]
  },
  {
   "cell_type": "code",
   "execution_count": 14,
   "id": "82c249f2-36c4-4bc3-ba90-36cec79cf261",
   "metadata": {},
   "outputs": [
    {
     "data": {
      "text/plain": [
       "16.0"
      ]
     },
     "execution_count": 14,
     "metadata": {},
     "output_type": "execute_result"
    }
   ],
   "source": [
    "P4_8 = (100 - sigma1) / 2\n",
    "P4_8"
   ]
  },
  {
   "cell_type": "raw",
   "id": "649ececd-b463-4937-956a-b18e50a4ee95",
   "metadata": {},
   "source": [
    "1 часть решения это правило трех сигм, для завершения решения показатели будут приведены к стандартному распределению:"
   ]
  },
  {
   "cell_type": "code",
   "execution_count": 15,
   "id": "73ed821f-ef63-48fd-add9-55e567c5c08f",
   "metadata": {},
   "outputs": [
    {
     "data": {
      "text/plain": [
       "0.15869999999999995"
      ]
     },
     "execution_count": 15,
     "metadata": {},
     "output_type": "execute_result"
    }
   ],
   "source": [
    "P4_11 = 1 - 0.8413\n",
    "P4_11"
   ]
  },
  {
   "cell_type": "code",
   "execution_count": 16,
   "id": "753456b3-2c3b-4d18-a220-1bc3ba33630e",
   "metadata": {},
   "outputs": [
    {
     "data": {
      "text/plain": [
       "0.022800000000000042"
      ]
     },
     "execution_count": 16,
     "metadata": {},
     "output_type": "execute_result"
    }
   ],
   "source": [
    "P4_12 = 1 - 0.9772\n",
    "P4_12"
   ]
  },
  {
   "cell_type": "code",
   "execution_count": 17,
   "id": "19b33388-27ca-430c-af30-4fa50a61069a",
   "metadata": {},
   "outputs": [
    {
     "data": {
      "text/plain": [
       "0.8185"
      ]
     },
     "execution_count": 17,
     "metadata": {},
     "output_type": "execute_result"
    }
   ],
   "source": [
    "P4_13 = 0.9772 - 0.1587\n",
    "P4_13"
   ]
  },
  {
   "cell_type": "code",
   "execution_count": 18,
   "id": "b3b9aebc-2c0d-40bd-8a25-7a7b19d796c0",
   "metadata": {},
   "outputs": [
    {
     "data": {
      "text/plain": [
       "0.6826000000000001"
      ]
     },
     "execution_count": 18,
     "metadata": {},
     "output_type": "execute_result"
    }
   ],
   "source": [
    "P4_14 = 0.8413 - 0.1587\n",
    "P4_14"
   ]
  },
  {
   "cell_type": "code",
   "execution_count": 19,
   "id": "7b48aaf8-4544-43a2-864e-37161f4519fc",
   "metadata": {},
   "outputs": [
    {
     "data": {
      "text/plain": [
       "0.9543999999999999"
      ]
     },
     "execution_count": 19,
     "metadata": {},
     "output_type": "execute_result"
    }
   ],
   "source": [
    "P4_15 = 0.9772 - 0.0228\n",
    "P4_15"
   ]
  },
  {
   "cell_type": "code",
   "execution_count": 20,
   "id": "cc929ddb-89bb-45e0-bc0d-333567183342",
   "metadata": {},
   "outputs": [
    {
     "data": {
      "text/plain": [
       "0.02410000000000004"
      ]
     },
     "execution_count": 20,
     "metadata": {},
     "output_type": "execute_result"
    }
   ],
   "source": [
    "P4_16 = 0.0013 + (1 - 0.9772)\n",
    "P4_16"
   ]
  },
  {
   "cell_type": "code",
   "execution_count": 21,
   "id": "2a613099-b999-4aea-9638-88041ff387e4",
   "metadata": {},
   "outputs": [
    {
     "data": {
      "text/plain": [
       "0.002599999999999968"
      ]
     },
     "execution_count": 21,
     "metadata": {},
     "output_type": "execute_result"
    }
   ],
   "source": [
    "P4_17 = 0.0013 + (1 - 0.9987)\n",
    "P4_17"
   ]
  },
  {
   "cell_type": "code",
   "execution_count": 22,
   "id": "1e39ac1e-f193-4b62-8369-80a927feb0ce",
   "metadata": {},
   "outputs": [
    {
     "data": {
      "text/plain": [
       "0.1587"
      ]
     },
     "execution_count": 22,
     "metadata": {},
     "output_type": "execute_result"
    }
   ],
   "source": [
    "P4_18 = 0.1587\n",
    "P4_18"
   ]
  },
  {
   "cell_type": "code",
   "execution_count": null,
   "id": "47ffb765-dd78-406a-95b7-87762fa804cc",
   "metadata": {},
   "outputs": [],
   "source": [
    "Задание 5 Ответ: на + 2,4 сигмы - обоснование:"
   ]
  },
  {
   "cell_type": "code",
   "execution_count": 23,
   "id": "0c214de4-97df-4a59-9b66-cb7d9b60b45f",
   "metadata": {},
   "outputs": [
    {
     "data": {
      "text/plain": [
       "2.4"
      ]
     },
     "execution_count": 23,
     "metadata": {},
     "output_type": "execute_result"
    }
   ],
   "source": [
    "M5 = 178\n",
    "D5 = 25\n",
    "std5 = sqrt(D5)\n",
    "sigma5 = (190 - M5)/std5\n",
    "sigma5"
   ]
  }
 ],
 "metadata": {
  "kernelspec": {
   "display_name": "Python 3 (ipykernel)",
   "language": "python",
   "name": "python3"
  },
  "language_info": {
   "codemirror_mode": {
    "name": "ipython",
    "version": 3
   },
   "file_extension": ".py",
   "mimetype": "text/x-python",
   "name": "python",
   "nbconvert_exporter": "python",
   "pygments_lexer": "ipython3",
   "version": "3.10.4"
  }
 },
 "nbformat": 4,
 "nbformat_minor": 5
}
